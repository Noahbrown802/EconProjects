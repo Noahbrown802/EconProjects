{
 "cells": [
  {
   "cell_type": "markdown",
   "metadata": {},
   "source": [
    "### Kaggle Competiton ##"
   ]
  },
  {
   "cell_type": "markdown",
   "metadata": {},
   "source": [
    "Howdy Nelson.\n",
    "First things fist: MASS IMPORT"
   ]
  },
  {
   "cell_type": "code",
   "execution_count": 81,
   "metadata": {},
   "outputs": [],
   "source": [
    "#IMPORTING THINGS\n",
    "import requests\n",
    "import matplotlib.mlab as mlab\n",
    "import matplotlib.pyplot as plt\n",
    "import pandas as pd\n",
    "import numpy as np\n",
    "import seaborn as sns\n",
    "#IMPORTING SKLEARN THINGS\n",
    "from sklearn.model_selection import learning_curve\n",
    "from sklearn.model_selection import train_test_split\n",
    "from sklearn.model_selection import RandomizedSearchCV\n",
    "from sklearn.metrics import make_scorer\n",
    "from sklearn.metrics import mean_squared_error\n",
    "from sklearn.linear_model import SGDRegressor\n",
    "from sklearn.linear_model import ElasticNetCV\n",
    "from sklearn.preprocessing import StandardScaler\n",
    "from sklearn.preprocessing import PolynomialFeatures\n",
    "from sklearn.utils import resample\n",
    "from sklearn.preprocessing import LabelEncoder\n",
    "import statsmodels.api as sm\n",
    "from sklearn import linear_model\n",
    "\n",
    "from sklearn.linear_model import SGDRegressor\n",
    "from sklearn.metrics import mean_squared_error\n",
    "from sklearn.preprocessing import StandardScaler"
   ]
  },
  {
   "cell_type": "markdown",
   "metadata": {},
   "source": [
    "The purpose of this competition is to build a model that predicts housing prices accurately. I will have training data, and test data. The game plan is to evaluate the training data using .head, plots, the datadescription.txt file, and of course my over abundance of real estate knowledge. Let's just start with .head."
   ]
  },
  {
   "cell_type": "code",
   "execution_count": 82,
   "metadata": {},
   "outputs": [
    {
     "data": {
      "text/html": [
       "<div>\n",
       "<style scoped>\n",
       "    .dataframe tbody tr th:only-of-type {\n",
       "        vertical-align: middle;\n",
       "    }\n",
       "\n",
       "    .dataframe tbody tr th {\n",
       "        vertical-align: top;\n",
       "    }\n",
       "\n",
       "    .dataframe thead th {\n",
       "        text-align: right;\n",
       "    }\n",
       "</style>\n",
       "<table border=\"1\" class=\"dataframe\">\n",
       "  <thead>\n",
       "    <tr style=\"text-align: right;\">\n",
       "      <th></th>\n",
       "      <th>Id</th>\n",
       "      <th>MSSubClass</th>\n",
       "      <th>MSZoning</th>\n",
       "      <th>LotFrontage</th>\n",
       "      <th>LotArea</th>\n",
       "      <th>Street</th>\n",
       "      <th>Alley</th>\n",
       "      <th>LotShape</th>\n",
       "      <th>LandContour</th>\n",
       "      <th>Utilities</th>\n",
       "      <th>...</th>\n",
       "      <th>PoolArea</th>\n",
       "      <th>PoolQC</th>\n",
       "      <th>Fence</th>\n",
       "      <th>MiscFeature</th>\n",
       "      <th>MiscVal</th>\n",
       "      <th>MoSold</th>\n",
       "      <th>YrSold</th>\n",
       "      <th>SaleType</th>\n",
       "      <th>SaleCondition</th>\n",
       "      <th>SalePrice</th>\n",
       "    </tr>\n",
       "  </thead>\n",
       "  <tbody>\n",
       "    <tr>\n",
       "      <th>0</th>\n",
       "      <td>1</td>\n",
       "      <td>60</td>\n",
       "      <td>RL</td>\n",
       "      <td>65.0</td>\n",
       "      <td>8450</td>\n",
       "      <td>Pave</td>\n",
       "      <td>NaN</td>\n",
       "      <td>Reg</td>\n",
       "      <td>Lvl</td>\n",
       "      <td>AllPub</td>\n",
       "      <td>...</td>\n",
       "      <td>0</td>\n",
       "      <td>NaN</td>\n",
       "      <td>NaN</td>\n",
       "      <td>NaN</td>\n",
       "      <td>0</td>\n",
       "      <td>2</td>\n",
       "      <td>2008</td>\n",
       "      <td>WD</td>\n",
       "      <td>Normal</td>\n",
       "      <td>208500</td>\n",
       "    </tr>\n",
       "    <tr>\n",
       "      <th>1</th>\n",
       "      <td>2</td>\n",
       "      <td>20</td>\n",
       "      <td>RL</td>\n",
       "      <td>80.0</td>\n",
       "      <td>9600</td>\n",
       "      <td>Pave</td>\n",
       "      <td>NaN</td>\n",
       "      <td>Reg</td>\n",
       "      <td>Lvl</td>\n",
       "      <td>AllPub</td>\n",
       "      <td>...</td>\n",
       "      <td>0</td>\n",
       "      <td>NaN</td>\n",
       "      <td>NaN</td>\n",
       "      <td>NaN</td>\n",
       "      <td>0</td>\n",
       "      <td>5</td>\n",
       "      <td>2007</td>\n",
       "      <td>WD</td>\n",
       "      <td>Normal</td>\n",
       "      <td>181500</td>\n",
       "    </tr>\n",
       "    <tr>\n",
       "      <th>2</th>\n",
       "      <td>3</td>\n",
       "      <td>60</td>\n",
       "      <td>RL</td>\n",
       "      <td>68.0</td>\n",
       "      <td>11250</td>\n",
       "      <td>Pave</td>\n",
       "      <td>NaN</td>\n",
       "      <td>IR1</td>\n",
       "      <td>Lvl</td>\n",
       "      <td>AllPub</td>\n",
       "      <td>...</td>\n",
       "      <td>0</td>\n",
       "      <td>NaN</td>\n",
       "      <td>NaN</td>\n",
       "      <td>NaN</td>\n",
       "      <td>0</td>\n",
       "      <td>9</td>\n",
       "      <td>2008</td>\n",
       "      <td>WD</td>\n",
       "      <td>Normal</td>\n",
       "      <td>223500</td>\n",
       "    </tr>\n",
       "    <tr>\n",
       "      <th>3</th>\n",
       "      <td>4</td>\n",
       "      <td>70</td>\n",
       "      <td>RL</td>\n",
       "      <td>60.0</td>\n",
       "      <td>9550</td>\n",
       "      <td>Pave</td>\n",
       "      <td>NaN</td>\n",
       "      <td>IR1</td>\n",
       "      <td>Lvl</td>\n",
       "      <td>AllPub</td>\n",
       "      <td>...</td>\n",
       "      <td>0</td>\n",
       "      <td>NaN</td>\n",
       "      <td>NaN</td>\n",
       "      <td>NaN</td>\n",
       "      <td>0</td>\n",
       "      <td>2</td>\n",
       "      <td>2006</td>\n",
       "      <td>WD</td>\n",
       "      <td>Abnorml</td>\n",
       "      <td>140000</td>\n",
       "    </tr>\n",
       "    <tr>\n",
       "      <th>4</th>\n",
       "      <td>5</td>\n",
       "      <td>60</td>\n",
       "      <td>RL</td>\n",
       "      <td>84.0</td>\n",
       "      <td>14260</td>\n",
       "      <td>Pave</td>\n",
       "      <td>NaN</td>\n",
       "      <td>IR1</td>\n",
       "      <td>Lvl</td>\n",
       "      <td>AllPub</td>\n",
       "      <td>...</td>\n",
       "      <td>0</td>\n",
       "      <td>NaN</td>\n",
       "      <td>NaN</td>\n",
       "      <td>NaN</td>\n",
       "      <td>0</td>\n",
       "      <td>12</td>\n",
       "      <td>2008</td>\n",
       "      <td>WD</td>\n",
       "      <td>Normal</td>\n",
       "      <td>250000</td>\n",
       "    </tr>\n",
       "  </tbody>\n",
       "</table>\n",
       "<p>5 rows × 81 columns</p>\n",
       "</div>"
      ],
      "text/plain": [
       "   Id  MSSubClass MSZoning  LotFrontage  LotArea Street Alley LotShape  \\\n",
       "0   1          60       RL         65.0     8450   Pave   NaN      Reg   \n",
       "1   2          20       RL         80.0     9600   Pave   NaN      Reg   \n",
       "2   3          60       RL         68.0    11250   Pave   NaN      IR1   \n",
       "3   4          70       RL         60.0     9550   Pave   NaN      IR1   \n",
       "4   5          60       RL         84.0    14260   Pave   NaN      IR1   \n",
       "\n",
       "  LandContour Utilities    ...     PoolArea PoolQC Fence MiscFeature MiscVal  \\\n",
       "0         Lvl    AllPub    ...            0    NaN   NaN         NaN       0   \n",
       "1         Lvl    AllPub    ...            0    NaN   NaN         NaN       0   \n",
       "2         Lvl    AllPub    ...            0    NaN   NaN         NaN       0   \n",
       "3         Lvl    AllPub    ...            0    NaN   NaN         NaN       0   \n",
       "4         Lvl    AllPub    ...            0    NaN   NaN         NaN       0   \n",
       "\n",
       "  MoSold YrSold  SaleType  SaleCondition  SalePrice  \n",
       "0      2   2008        WD         Normal     208500  \n",
       "1      5   2007        WD         Normal     181500  \n",
       "2      9   2008        WD         Normal     223500  \n",
       "3      2   2006        WD        Abnorml     140000  \n",
       "4     12   2008        WD         Normal     250000  \n",
       "\n",
       "[5 rows x 81 columns]"
      ]
     },
     "execution_count": 82,
     "metadata": {},
     "output_type": "execute_result"
    }
   ],
   "source": [
    "data =  pd.read_csv(\"C:/Users/Noah/Desktop/ECON 213/Kaggle Competition/train.csv\",)\n",
    "data.head()"
   ]
  },
  {
   "cell_type": "markdown",
   "metadata": {},
   "source": [
    "Even with just seeing 20ish of the columns, it looks like we have all sorts of data. LotArea is a continous variable, Kitchen Baths is a discrete variable, MSZoning is some sort of categorical data, and year made is somewhere in between. Looks like we are going to have to decide what to do with each type of variable. "
   ]
  },
  {
   "cell_type": "markdown",
   "metadata": {},
   "source": [
    "One thing that is important to me is to see which variabes have missing data. If we have variables that have a majority of missing data, then there must be something going on that needs to be changed."
   ]
  },
  {
   "cell_type": "code",
   "execution_count": 83,
   "metadata": {},
   "outputs": [
    {
     "data": {
      "text/plain": [
       "PoolQC           1453\n",
       "MiscFeature      1406\n",
       "Alley            1369\n",
       "Fence            1179\n",
       "FireplaceQu       690\n",
       "LotFrontage       259\n",
       "GarageCond         81\n",
       "GarageType         81\n",
       "GarageYrBlt        81\n",
       "GarageFinish       81\n",
       "GarageQual         81\n",
       "BsmtExposure       38\n",
       "BsmtFinType2       38\n",
       "BsmtFinType1       37\n",
       "BsmtCond           37\n",
       "BsmtQual           37\n",
       "MasVnrArea          8\n",
       "MasVnrType          8\n",
       "Electrical          1\n",
       "Utilities           0\n",
       "YearRemodAdd        0\n",
       "MSSubClass          0\n",
       "Foundation          0\n",
       "ExterCond           0\n",
       "ExterQual           0\n",
       "Exterior2nd         0\n",
       "Exterior1st         0\n",
       "RoofMatl            0\n",
       "RoofStyle           0\n",
       "YearBuilt           0\n",
       "                 ... \n",
       "GarageArea          0\n",
       "PavedDrive          0\n",
       "WoodDeckSF          0\n",
       "OpenPorchSF         0\n",
       "3SsnPorch           0\n",
       "BsmtUnfSF           0\n",
       "ScreenPorch         0\n",
       "PoolArea            0\n",
       "MiscVal             0\n",
       "MoSold              0\n",
       "YrSold              0\n",
       "SaleType            0\n",
       "Functional          0\n",
       "TotRmsAbvGrd        0\n",
       "KitchenQual         0\n",
       "KitchenAbvGr        0\n",
       "BedroomAbvGr        0\n",
       "HalfBath            0\n",
       "FullBath            0\n",
       "BsmtHalfBath        0\n",
       "BsmtFullBath        0\n",
       "GrLivArea           0\n",
       "LowQualFinSF        0\n",
       "2ndFlrSF            0\n",
       "1stFlrSF            0\n",
       "CentralAir          0\n",
       "SaleCondition       0\n",
       "Heating             0\n",
       "TotalBsmtSF         0\n",
       "Id                  0\n",
       "Length: 81, dtype: int64"
      ]
     },
     "execution_count": 83,
     "metadata": {},
     "output_type": "execute_result"
    }
   ],
   "source": [
    "#Shows which variables have NaN values and how many.\n",
    "data.isnull().sum().sort_values(ascending=False)"
   ]
  },
  {
   "cell_type": "markdown",
   "metadata": {},
   "source": [
    "Well some of these are explained well! Looks like 1453 of the houses don't have a pool, which explains why there is no Pool Quality. About 1200 don't have fences, 80ish don't have garages, and one poor house seems to not even have electricity. Before we do anything to fix these columns, let's plot some data and see what is most important."
   ]
  },
  {
   "cell_type": "code",
   "execution_count": 84,
   "metadata": {},
   "outputs": [
    {
     "data": {
      "image/png": "[encoded data removed]",
      "text/plain": [
       "<Figure size 432x288 with 1 Axes>"
      ]
     },
     "metadata": {},
     "output_type": "display_data"
    }
   ],
   "source": [
    "plt.hist(data.SalePrice, 30, facecolor = 'blue')\n",
    "plt.title('How Much did each House Sell For?')\n",
    "plt.ylabel(\"Number of Houses\")\n",
    "plt.xlabel(\"Sale Price\")\n",
    "\n",
    "plt.show()"
   ]
  },
  {
   "cell_type": "markdown",
   "metadata": {},
   "source": [
    "Above is a histogram that shows how many houses were sold for each price range. It appears that our data is skewed to the right with just a handfold of houses sold for over 400K. My boy James taught me how to normalize by taking the log of the saleprice and then graphing that. Let's see if it works!"
   ]
  },
  {
   "cell_type": "code",
   "execution_count": 85,
   "metadata": {},
   "outputs": [
    {
     "data": {
      "image/png": "[encoded data removed]",
      "text/plain": [
       "<Figure size 432x288 with 1 Axes>"
      ]
     },
     "metadata": {},
     "output_type": "display_data"
    }
   ],
   "source": [
    "plt.hist(np.log(data.SalePrice), 30, facecolor = 'blue')\n",
    "plt.title('Log of How much did the house sell for ?')\n",
    "plt.ylabel(\"Number of Houses\")\n",
    "plt.xlabel(\"Log of Sale Price\")\n",
    "\n",
    "plt.show()"
   ]
  },
  {
   "cell_type": "markdown",
   "metadata": {},
   "source": [
    "I genuinley am surprised by that... This is the data I'll be working with later."
   ]
  },
  {
   "cell_type": "markdown",
   "metadata": {},
   "source": [
    "### Scatter Plots###\n",
    "So, I'm going to do scatter plots of 6 different variables. Just by my own assumptions I'm going to try to guess 3 super correlated variables, and three super uncorrelated variables. Let's see how it goes."
   ]
  },
  {
   "cell_type": "code",
   "execution_count": 86,
   "metadata": {},
   "outputs": [
    {
     "data": {
      "image/png": "[encoded data removed]",
      "text/plain": [
       "<Figure size 432x288 with 1 Axes>"
      ]
     },
     "metadata": {},
     "output_type": "display_data"
    },
    {
     "data": {
      "image/png": "[encoded data removed]",
      "text/plain": [
       "<Figure size 432x288 with 1 Axes>"
      ]
     },
     "metadata": {},
     "output_type": "display_data"
    },
    {
     "data": {
      "image/png": "[encoded data removed]",
      "text/plain": [
       "<Figure size 432x288 with 1 Axes>"
      ]
     },
     "metadata": {},
     "output_type": "display_data"
    }
   ],
   "source": [
    "plot = data.plot(kind=\"scatter\", x = 'LotArea', y = 'SalePrice')\n",
    "plt.title(\"Lot Area\")\n",
    "plot = data.plot(kind=\"scatter\", x = 'OverallQual', y = 'SalePrice', alpha = .75, color = 'green')\n",
    "plt.title(\"Overall Quality\")\n",
    "plot = data.plot(kind=\"scatter\", x = 'OverallCond', y = 'SalePrice', alpha = .75, color = 'red')\n",
    "plt.title(\"Overall Condition\")\n",
    "plt.show()"
   ]
  },
  {
   "cell_type": "markdown",
   "metadata": {},
   "source": [
    "It seems that My guesses were pretty okay! For Lot Area, it seems that there defintely is a correlation, but there are plenty of outliers that stretch the data. Overall Quality seems effective for predictions. Overall Condition was a surprise because a majority of the high selling houses are in the 5-6 range.\n",
    "\n",
    "Now let's take a stab at the ones I think will be uncorrelated."
   ]
  },
  {
   "cell_type": "code",
   "execution_count": 87,
   "metadata": {},
   "outputs": [
    {
     "data": {
      "image/png": "[encoded data removed]",
      "text/plain": [
       "<Figure size 432x288 with 1 Axes>"
      ]
     },
     "metadata": {},
     "output_type": "display_data"
    },
    {
     "data": {
      "image/png": "[encoded data removed]",
      "text/plain": [
       "<Figure size 432x288 with 1 Axes>"
      ]
     },
     "metadata": {},
     "output_type": "display_data"
    },
    {
     "data": {
      "image/png": "[encoded data removed]",
      "text/plain": [
       "<Figure size 432x288 with 1 Axes>"
      ]
     },
     "metadata": {},
     "output_type": "display_data"
    }
   ],
   "source": [
    "plot = data.plot(kind=\"scatter\", x = 'MoSold', y = 'SalePrice')\n",
    "plt.title(\"Month Sold\")\n",
    "plot = data.plot(kind=\"scatter\", x = 'GarageArea', y = 'SalePrice', alpha = .75, color = 'green')\n",
    "plt.title(\"Garage Area\")\n",
    "plot = data.plot(kind=\"scatter\", x = 'BedroomAbvGr', y = 'SalePrice', alpha = .75, color = 'red')\n",
    "plt.title(\"Bedrooms Above Ground\")\n",
    "plt.show()"
   ]
  },
  {
   "cell_type": "markdown",
   "metadata": {},
   "source": [
    "Huh. Months sold looks to be roughly unformly distributed. Garage area... hmm.. Well houses without garages sell for less! That's for sure. In general it seems that the garage area ranges widely off the line of best fit. Bedrooms above ground is confusing! The houses with 5, 6, or even 8 bedrooms about ground sell for a low price. There must be other lurking variables."
   ]
  },
  {
   "cell_type": "markdown",
   "metadata": {},
   "source": [
    "Now that we have some graphs to go off of, let's do some actually correlation and see what our top 10 most correlated variables are."
   ]
  },
  {
   "cell_type": "markdown",
   "metadata": {},
   "source": [
    "First, I want to look at the general information of the Sales Price Column."
   ]
  },
  {
   "cell_type": "code",
   "execution_count": 88,
   "metadata": {},
   "outputs": [
    {
     "name": "stdout",
     "output_type": "stream",
     "text": [
      "count      1460.000000\n",
      "mean     180921.195890\n",
      "std       79442.502883\n",
      "min       34900.000000\n",
      "25%      129975.000000\n",
      "50%      163000.000000\n",
      "75%      214000.000000\n",
      "max      755000.000000\n",
      "Name: SalePrice, dtype: float64\n"
     ]
    }
   ],
   "source": [
    "print(data.SalePrice.describe())"
   ]
  },
  {
   "cell_type": "code",
   "execution_count": 89,
   "metadata": {},
   "outputs": [
    {
     "name": "stdout",
     "output_type": "stream",
     "text": [
      "SalePrice       1.000000\n",
      "OverallQual     0.790982\n",
      "GrLivArea       0.708624\n",
      "GarageCars      0.640409\n",
      "GarageArea      0.623431\n",
      "TotalBsmtSF     0.613581\n",
      "1stFlrSF        0.605852\n",
      "FullBath        0.560664\n",
      "TotRmsAbvGrd    0.533723\n",
      "YearBuilt       0.522897\n",
      "YearRemodAdd    0.507101\n",
      "GarageYrBlt     0.486362\n",
      "MasVnrArea      0.477493\n",
      "Name: SalePrice, dtype: float64\n",
      "PoolArea         0.092404\n",
      "MoSold           0.046432\n",
      "3SsnPorch        0.044584\n",
      "BsmtFinSF2      -0.011378\n",
      "BsmtHalfBath    -0.016844\n",
      "MiscVal         -0.021190\n",
      "Id              -0.021917\n",
      "LowQualFinSF    -0.025606\n",
      "YrSold          -0.028923\n",
      "OverallCond     -0.077856\n",
      "MSSubClass      -0.084284\n",
      "EnclosedPorch   -0.128578\n",
      "KitchenAbvGr    -0.135907\n",
      "Name: SalePrice, dtype: float64\n"
     ]
    }
   ],
   "source": [
    "\n",
    "numeric_features = data.select_dtypes(include=[np.number])\n",
    "    #makes a data frame that only has numerical data.\n",
    "corr = numeric_features.corr()\n",
    "print (corr['SalePrice'].sort_values(ascending=False)[:13])\n",
    "print (corr['SalePrice'].sort_values(ascending=False)[-13:])"
   ]
  },
  {
   "cell_type": "markdown",
   "metadata": {},
   "source": [
    "Okay Awesome! So we have the top 12 most correlated variables! I'm thinking that if I just stick with these variables I can produce a model that is fairly accurate. However, while looking at these, it seems like a few are fairly similar. For example, Ground living area, basement square footage, and first floor square footage are all in the same ball park. Also, garage year built and house year built are probably similar. This will probably create some bias and auto correlation in my linear models. "
   ]
  },
  {
   "cell_type": "code",
   "execution_count": 90,
   "metadata": {},
   "outputs": [
    {
     "data": {
      "text/html": [
       "<div>\n",
       "<style scoped>\n",
       "    .dataframe tbody tr th:only-of-type {\n",
       "        vertical-align: middle;\n",
       "    }\n",
       "\n",
       "    .dataframe tbody tr th {\n",
       "        vertical-align: top;\n",
       "    }\n",
       "\n",
       "    .dataframe thead th {\n",
       "        text-align: right;\n",
       "    }\n",
       "</style>\n",
       "<table border=\"1\" class=\"dataframe\">\n",
       "  <thead>\n",
       "    <tr style=\"text-align: right;\">\n",
       "      <th></th>\n",
       "      <th>OverallQual</th>\n",
       "      <th>GrLivArea</th>\n",
       "      <th>GarageCars</th>\n",
       "      <th>GarageArea</th>\n",
       "      <th>TotalBsmtSF</th>\n",
       "      <th>1stFlrSF</th>\n",
       "      <th>FullBath</th>\n",
       "      <th>TotRmsAbvGrd</th>\n",
       "      <th>YearBuilt</th>\n",
       "      <th>YearRemodAdd</th>\n",
       "      <th>GarageYrBlt</th>\n",
       "      <th>MasVnrArea</th>\n",
       "    </tr>\n",
       "  </thead>\n",
       "  <tbody>\n",
       "    <tr>\n",
       "      <th>0</th>\n",
       "      <td>7</td>\n",
       "      <td>1710</td>\n",
       "      <td>2</td>\n",
       "      <td>548</td>\n",
       "      <td>856</td>\n",
       "      <td>856</td>\n",
       "      <td>2</td>\n",
       "      <td>8</td>\n",
       "      <td>2003</td>\n",
       "      <td>2003</td>\n",
       "      <td>2003.0</td>\n",
       "      <td>196.0</td>\n",
       "    </tr>\n",
       "    <tr>\n",
       "      <th>1</th>\n",
       "      <td>6</td>\n",
       "      <td>1262</td>\n",
       "      <td>2</td>\n",
       "      <td>460</td>\n",
       "      <td>1262</td>\n",
       "      <td>1262</td>\n",
       "      <td>2</td>\n",
       "      <td>6</td>\n",
       "      <td>1976</td>\n",
       "      <td>1976</td>\n",
       "      <td>1976.0</td>\n",
       "      <td>0.0</td>\n",
       "    </tr>\n",
       "    <tr>\n",
       "      <th>2</th>\n",
       "      <td>7</td>\n",
       "      <td>1786</td>\n",
       "      <td>2</td>\n",
       "      <td>608</td>\n",
       "      <td>920</td>\n",
       "      <td>920</td>\n",
       "      <td>2</td>\n",
       "      <td>6</td>\n",
       "      <td>2001</td>\n",
       "      <td>2002</td>\n",
       "      <td>2001.0</td>\n",
       "      <td>162.0</td>\n",
       "    </tr>\n",
       "    <tr>\n",
       "      <th>3</th>\n",
       "      <td>7</td>\n",
       "      <td>1717</td>\n",
       "      <td>3</td>\n",
       "      <td>642</td>\n",
       "      <td>756</td>\n",
       "      <td>961</td>\n",
       "      <td>1</td>\n",
       "      <td>7</td>\n",
       "      <td>1915</td>\n",
       "      <td>1970</td>\n",
       "      <td>1998.0</td>\n",
       "      <td>0.0</td>\n",
       "    </tr>\n",
       "    <tr>\n",
       "      <th>4</th>\n",
       "      <td>8</td>\n",
       "      <td>2198</td>\n",
       "      <td>3</td>\n",
       "      <td>836</td>\n",
       "      <td>1145</td>\n",
       "      <td>1145</td>\n",
       "      <td>2</td>\n",
       "      <td>9</td>\n",
       "      <td>2000</td>\n",
       "      <td>2000</td>\n",
       "      <td>2000.0</td>\n",
       "      <td>350.0</td>\n",
       "    </tr>\n",
       "  </tbody>\n",
       "</table>\n",
       "</div>"
      ],
      "text/plain": [
       "   OverallQual  GrLivArea  GarageCars  GarageArea  TotalBsmtSF  1stFlrSF  \\\n",
       "0            7       1710           2         548          856       856   \n",
       "1            6       1262           2         460         1262      1262   \n",
       "2            7       1786           2         608          920       920   \n",
       "3            7       1717           3         642          756       961   \n",
       "4            8       2198           3         836         1145      1145   \n",
       "\n",
       "   FullBath  TotRmsAbvGrd  YearBuilt  YearRemodAdd  GarageYrBlt  MasVnrArea  \n",
       "0         2             8       2003          2003       2003.0       196.0  \n",
       "1         2             6       1976          1976       1976.0         0.0  \n",
       "2         2             6       2001          2002       2001.0       162.0  \n",
       "3         1             7       1915          1970       1998.0         0.0  \n",
       "4         2             9       2000          2000       2000.0       350.0  "
      ]
     },
     "execution_count": 90,
     "metadata": {},
     "output_type": "execute_result"
    }
   ],
   "source": [
    "target = data.SalePrice\n",
    "train = data[['OverallQual','GrLivArea','GarageCars','GarageArea','TotalBsmtSF','1stFlrSF','FullBath','TotRmsAbvGrd','YearBuilt','YearRemodAdd','GarageYrBlt','MasVnrArea']]\n",
    "train.head()"
   ]
  },
  {
   "cell_type": "markdown",
   "metadata": {},
   "source": [
    "YUH. Now let's run a linear regression on this puppy."
   ]
  },
  {
   "cell_type": "markdown",
   "metadata": {},
   "source": [
    "From my last attempt to do this entire project, I learned that Null data MESSES with linear regression."
   ]
  },
  {
   "cell_type": "code",
   "execution_count": 91,
   "metadata": {},
   "outputs": [
    {
     "data": {
      "text/plain": [
       "OverallQual      0\n",
       "GrLivArea        0\n",
       "GarageCars       0\n",
       "GarageArea       0\n",
       "TotalBsmtSF      0\n",
       "1stFlrSF         0\n",
       "FullBath         0\n",
       "TotRmsAbvGrd     0\n",
       "YearBuilt        0\n",
       "YearRemodAdd     0\n",
       "GarageYrBlt     81\n",
       "MasVnrArea       8\n",
       "dtype: int64"
      ]
     },
     "execution_count": 91,
     "metadata": {},
     "output_type": "execute_result"
    }
   ],
   "source": [
    "train.isnull().sum()"
   ]
  },
  {
   "cell_type": "markdown",
   "metadata": {},
   "source": [
    "Looks like 81 of our houses NEVER had a garage built. However, since GarageYrBlt will almost always be the same as the year the house was built, I'll just drop that column from our model training data."
   ]
  },
  {
   "cell_type": "code",
   "execution_count": 92,
   "metadata": {},
   "outputs": [],
   "source": [
    "train = train.drop(['GarageYrBlt'], axis = 1)"
   ]
  },
  {
   "cell_type": "markdown",
   "metadata": {},
   "source": [
    "The other variable with Null data is \"Masonry veneer area in square feet\"... Whatever that is. I'm conflicted. Should I throw replace null data with 0 or with the average? Since there are already plenty of data points with 0 square feet, I'll replace the null data with the average because the average will be super low. Shouldn't effect anything too much!"
   ]
  },
  {
   "cell_type": "code",
   "execution_count": 93,
   "metadata": {
    "scrolled": true
   },
   "outputs": [
    {
     "data": {
      "text/plain": [
       "0       196.0\n",
       "1         0.0\n",
       "2       162.0\n",
       "3         0.0\n",
       "4       350.0\n",
       "5         0.0\n",
       "6       186.0\n",
       "7       240.0\n",
       "8         0.0\n",
       "9         0.0\n",
       "10        0.0\n",
       "11      286.0\n",
       "12        0.0\n",
       "13      306.0\n",
       "14      212.0\n",
       "15        0.0\n",
       "16      180.0\n",
       "17        0.0\n",
       "18        0.0\n",
       "19        0.0\n",
       "20      380.0\n",
       "21        0.0\n",
       "22      281.0\n",
       "23        0.0\n",
       "24        0.0\n",
       "25      640.0\n",
       "26        0.0\n",
       "27      200.0\n",
       "28        0.0\n",
       "29        0.0\n",
       "        ...  \n",
       "1430      0.0\n",
       "1431      0.0\n",
       "1432      0.0\n",
       "1433    318.0\n",
       "1434      0.0\n",
       "1435    237.0\n",
       "1436      0.0\n",
       "1437    426.0\n",
       "1438      0.0\n",
       "1439     96.0\n",
       "1440      0.0\n",
       "1441    147.0\n",
       "1442    160.0\n",
       "1443      0.0\n",
       "1444    106.0\n",
       "1445      0.0\n",
       "1446    189.0\n",
       "1447    438.0\n",
       "1448      0.0\n",
       "1449      0.0\n",
       "1450      0.0\n",
       "1451    194.0\n",
       "1452     80.0\n",
       "1453      0.0\n",
       "1454      0.0\n",
       "1455      0.0\n",
       "1456    119.0\n",
       "1457      0.0\n",
       "1458      0.0\n",
       "1459      0.0\n",
       "Name: MasVnrArea, Length: 1460, dtype: float64"
      ]
     },
     "execution_count": 93,
     "metadata": {},
     "output_type": "execute_result"
    }
   ],
   "source": [
    "train.MasVnrArea"
   ]
  },
  {
   "cell_type": "code",
   "execution_count": 94,
   "metadata": {},
   "outputs": [],
   "source": [
    "train.loc[train['MasVnrArea'].isnull(),'MasVnrArea'] = train['MasVnrArea'].mean()"
   ]
  },
  {
   "cell_type": "code",
   "execution_count": 95,
   "metadata": {},
   "outputs": [
    {
     "data": {
      "text/plain": [
       "OverallQual     0\n",
       "GrLivArea       0\n",
       "GarageCars      0\n",
       "GarageArea      0\n",
       "TotalBsmtSF     0\n",
       "1stFlrSF        0\n",
       "FullBath        0\n",
       "TotRmsAbvGrd    0\n",
       "YearBuilt       0\n",
       "YearRemodAdd    0\n",
       "MasVnrArea      0\n",
       "dtype: int64"
      ]
     },
     "execution_count": 95,
     "metadata": {},
     "output_type": "execute_result"
    }
   ],
   "source": [
    "train.isnull().sum()"
   ]
  },
  {
   "cell_type": "markdown",
   "metadata": {},
   "source": [
    "### Model 1 Linear Regression ###\n",
    "With everything lined up, let's get an r^2 value."
   ]
  },
  {
   "cell_type": "code",
   "execution_count": 96,
   "metadata": {},
   "outputs": [
    {
     "name": "stdout",
     "output_type": "stream",
     "text": [
      "My R-squared is: 0.8404869618781632\n"
     ]
    }
   ],
   "source": [
    "y = np.log(target)\n",
    "x_train, x_test, y_train, y_test = train_test_split(train, y, random_state=42, test_size=.33)\n",
    "\n",
    "lr = linear_model.LinearRegression()\n",
    "model = lr.fit(x_train, y_train)\n",
    "print(\"My R-squared is:\", model.score(x_test, y_test))"
   ]
  },
  {
   "cell_type": "markdown",
   "metadata": {},
   "source": [
    "Not bad not bad.. I've seen a lot worse. The goal with an R-Squared value is to get as close to 1 as possible. Now lets get an MSE"
   ]
  },
  {
   "cell_type": "code",
   "execution_count": 97,
   "metadata": {},
   "outputs": [
    {
     "name": "stdout",
     "output_type": "stream",
     "text": [
      "First attempt at MSE is: 0.027186027743862178\n"
     ]
    }
   ],
   "source": [
    "predictions = model.predict(x_test)\n",
    "mse = mean_squared_error(y_test, predictions)\n",
    "print(\"First attempt at MSE is:\", mse)"
   ]
  },
  {
   "cell_type": "markdown",
   "metadata": {},
   "source": [
    "Holy freak. My goodness that is WAY better than my first project Nelson. Remember how I got like 1.2 billion the first time? I think that getting rid of a majority of the variables was the biggest thing. Also, not worrying too much about awkward categorical data is probably helping.\n",
    "\n",
    "I found some cool code to compare actual price and predicted price. Let's see what happens."
   ]
  },
  {
   "cell_type": "code",
   "execution_count": 98,
   "metadata": {},
   "outputs": [
    {
     "data": {
      "image/png": "[encoded data removed]",
      "text/plain": [
       "<Figure size 432x288 with 1 Axes>"
      ]
     },
     "metadata": {},
     "output_type": "display_data"
    },
    {
     "data": {
      "image/png": "[encoded data removed]",
      "text/plain": [
       "<Figure size 432x288 with 1 Axes>"
      ]
     },
     "metadata": {},
     "output_type": "display_data"
    }
   ],
   "source": [
    "plt.scatter(predictions, y_test, alpha = .5)\n",
    "plt.xlabel('Predicted Price')\n",
    "plt.ylabel('Actual Price')\n",
    "plt.show()\n",
    "plt.scatter(np.exp(predictions), np.exp(y_test), alpha = .5, color='r')\n",
    "plt.xlabel('Predicted Price')\n",
    "plt.ylabel('Actual Price')\n",
    "plt.show()"
   ]
  },
  {
   "cell_type": "markdown",
   "metadata": {},
   "source": [
    "Hey that looks pretty good! The top graph keeps all the data in the 'logged' version, while the bottom graph is actual prices. It seems that my model predicts on the low side based on just a slight observation of the graphs and their scaling. Not a big deal!"
   ]
  },
  {
   "cell_type": "markdown",
   "metadata": {},
   "source": [
    "Questions from the homework about this model:\n",
    "The reason why I started with a linear regression model is because I feel like the simplicity of it allows for a good benchmark to test my other models against. The biggest assumptions I make with this model is that the data is indeed linear, and that there is no multicollinearity. OBVIOUSLY there is collinearity. Even though I only have 9 variables, I believe that these things are still very correlated. Because of this I know my predictions will be biased, and I believe that my model is most incorrect with the high range prices. The highest actual price was 755K and my most expensive house prediction was 140K lower at 615K. That is alarming. Because of this I am fairly confident that my model is good at predicting the bulk of the houses in Iowa within my inner quartile range, but the tricky houses it will most likely be outliers with inaccurate predictions."
   ]
  },
  {
   "cell_type": "code",
   "execution_count": 99,
   "metadata": {},
   "outputs": [
    {
     "name": "stdout",
     "output_type": "stream",
     "text": [
      "The max test price is: 755000.0\n",
      "The max predicted price is: 615889.0\n",
      "\n",
      "The min test price is: 35311.0\n",
      "The min predicted price is: 65081.7\n"
     ]
    }
   ],
   "source": [
    "#I want to compare the mins and maxes\n",
    "print(\"The max test price is:\", round(max(np.exp(y_test)),1))\n",
    "print(\"The max predicted price is:\", round(max(np.exp(predictions)),1))\n",
    "print(\"\")\n",
    "print(\"The min test price is:\", round(min(np.exp(y_test)),1))\n",
    "print(\"The min predicted price is:\", round(min(np.exp(predictions)),1))"
   ]
  },
  {
   "cell_type": "code",
   "execution_count": 100,
   "metadata": {},
   "outputs": [
    {
     "name": "stdout",
     "output_type": "stream",
     "text": [
      "Our original data shape was:\n",
      "count    1460.000000\n",
      "mean       12.024051\n",
      "std         0.399452\n",
      "min        10.460242\n",
      "25%        11.775097\n",
      "50%        12.001505\n",
      "75%        12.273731\n",
      "max        13.534473\n",
      "Name: SalePrice, dtype: float64\n",
      "Our predicted data shape is:\n",
      "                0\n",
      "count  482.000000\n",
      "mean    12.012167\n",
      "std      0.364172\n",
      "min     11.083399\n",
      "25%     11.723152\n",
      "50%     11.974318\n",
      "75%     12.249014\n",
      "max     13.330822\n"
     ]
    }
   ],
   "source": [
    "#I also want to compare the shapes in general\n",
    "print('Our original data shape was:')\n",
    "print(np.log(data.SalePrice).describe())\n",
    "predictions = pd.DataFrame(predictions)\n",
    "print('Our predicted data shape is:')\n",
    "print(predictions.describe())"
   ]
  },
  {
   "cell_type": "markdown",
   "metadata": {},
   "source": [
    "### Model 2 Elastic Net ###\n",
    "\n",
    "I'm going to use some code from Tyler's lectures to make an Elastic Net model. Hopefully this will be even more accurate than my first model."
   ]
  },
  {
   "cell_type": "code",
   "execution_count": 101,
   "metadata": {
    "scrolled": true
   },
   "outputs": [
    {
     "name": "stdout",
     "output_type": "stream",
     "text": [
      "Train MSE: 0.03120560573180686\n",
      "Test MSE: 0.026623376754709573\n"
     ]
    }
   ],
   "source": [
    "clf = ElasticNetCV(l1_ratio=[.1, .5, .7, .9, .95, .99, 1], alphas=[.1, 1, 10])\n",
    "clf.fit(x_train, y_train)\n",
    "train_predictions = clf.predict(x_train)\n",
    "test_predictions = clf.predict(x_test)\n",
    "print(\"Train MSE: {}\".format(mean_squared_error(y_train, train_predictions)))\n",
    "print(\"Test MSE: {}\".format(mean_squared_error(y_test, test_predictions)))"
   ]
  },
  {
   "cell_type": "markdown",
   "metadata": {},
   "source": [
    "Not bad! But I'm surprised that my MSE is higher on the Elastic Net then just a simple linear regression model. Let's try changing the l1_ratio. Right now my set of hyper parameters are making the assumption that a lasso-ish model would work better. Let's run it again with more possibilites closer to a ridge."
   ]
  },
  {
   "cell_type": "code",
   "execution_count": 102,
   "metadata": {},
   "outputs": [
    {
     "name": "stdout",
     "output_type": "stream",
     "text": [
      "Train MSE: 0.030175469101534326\n",
      "Test MSE: 0.02660958835324912\n"
     ]
    }
   ],
   "source": [
    "clf = ElasticNetCV(l1_ratio=[.001, .1, .2, .3, .5, .7, 1], alphas=[.1, 1, 10])\n",
    "clf.fit(x_train, y_train)\n",
    "train_predictions = clf.predict(x_train)\n",
    "test_predictions = clf.predict(x_test)\n",
    "print(\"Train MSE: {}\".format(mean_squared_error(y_train, train_predictions)))\n",
    "print(\"Test MSE: {}\".format(mean_squared_error(y_test, test_predictions)))"
   ]
  },
  {
   "cell_type": "markdown",
   "metadata": {},
   "source": [
    "Heyo! That decreased my MSE! Not by much, but it goes to show that even a slight change in your hyper parameters can change your results. To answer some of the questions from the homework, I chose this type of model for a couple reasons: the biggest is because Tyler went over it in class and posted his code. However, I think an Elastic Net model is cool because it takes the best of both worlds when it comes to ridge/lasso and, to my understanding, combines the two into a fluid net. I think this is beneficial because it gives a more well rounded approach to the data. Also, because I put my l1_ratio as both .001 and 1, essentially I tested a plain ridge and lasso anyway! Feeding three birds with one scone. I still am puzzled as to why my Linear regression has a smaller MSE. It must be in how I've structured my remaining training data frame. "
   ]
  },
  {
   "cell_type": "markdown",
   "metadata": {},
   "source": [
    "### Model 3 Randomized Search SGD Regression ###"
   ]
  },
  {
   "cell_type": "markdown",
   "metadata": {},
   "source": [
    "Now I'm going to try the Randomized Search tuning to the SGD model that Tyler talked about."
   ]
  },
  {
   "cell_type": "code",
   "execution_count": 103,
   "metadata": {},
   "outputs": [
    {
     "name": "stdout",
     "output_type": "stream",
     "text": [
      "Best Parameters: {'tol': 0.0001, 'eta0': 0.003}\n",
      "Best Negative MSE: -5.0888880604598135e+29\n"
     ]
    }
   ],
   "source": [
    "param_dist = {\"eta0\": [ .001, .003, .01, .03, .1, .3, 1, 3],\n",
    "             \"tol\": [0.01, 0.001, 0.0001]}\n",
    "\n",
    "linear_regression_model = SGDRegressor()\n",
    "\n",
    "n_iter_search = 8\n",
    "random_search = RandomizedSearchCV(linear_regression_model, param_distributions=param_dist,\n",
    "                                   n_iter=n_iter_search, cv=3, scoring='neg_mean_squared_error')\n",
    "random_search.fit(x_train, y_train)\n",
    "\n",
    "print(\"Best Parameters: {}\".format(random_search.best_params_))\n",
    "print(\"Best Negative MSE: {}\".format(random_search.best_score_))\n",
    "tuned_model = SGDRegressor(tol = .01, eta0 = .001)"
   ]
  },
  {
   "cell_type": "markdown",
   "metadata": {},
   "source": [
    "Umm... I'm not exactly sure what a negative MSE is, but the fact that there are 29 digits in the number goes to show that this model is crap. In fact, when I ran it on my actual test set all of my predictions turned out to me \"inf\". I don't think any company in the world would be thrilled if it predicted housing prices to be infinity dollars for their customers. After having messed around with the SGD for a while, I've come to the conclusion that it just isn't a good model for the data! Plain and simple. I've even asked a couple other students and we are all in the same ball park for how crap of an estimate it is. SGD stands for Stochastic Gradient Descent and uses the euclidian norm when making predictions. One assumption that I'm making, which may account for the horrible MSE, is that we even have enough data to fill up the 8 dimensional space that my dataframe is living in. Because of the amount of variables, we need TONS of data for distance to even mean anything. I have a gut feeling that that is why this estimation/model is such bogus"
   ]
  },
  {
   "cell_type": "markdown",
   "metadata": {},
   "source": [
    "### Submission of my test predictions###"
   ]
  },
  {
   "cell_type": "code",
   "execution_count": 104,
   "metadata": {},
   "outputs": [],
   "source": [
    "test =  pd.read_csv(\"C:/Users/Noah/Desktop/ECON 213/Kaggle Competition/test.csv\",)\n",
    "Id = test.Id\n",
    "# Makes a blank data frame\n",
    "submission = pd.DataFrame()\n",
    "# Creates a new column called 'Id' and inserts the numbers 1-1460\n",
    "submission['Id'] = test.Id\n",
    "# Prepares the data frame like we did for our training data\n",
    "test = test[['OverallQual','GrLivArea','GarageCars','GarageArea','TotalBsmtSF','1stFlrSF','FullBath','TotRmsAbvGrd','YearBuilt','YearRemodAdd','GarageYrBlt','MasVnrArea']]\n",
    "test = test.drop(['GarageYrBlt'], axis = 1)\n",
    "test.loc[test['MasVnrArea'].isnull(),'MasVnrArea'] = test['MasVnrArea'].mean()\n",
    "\n",
    "# Had to deal with some extra NUL data\n",
    "test.loc[test['GarageCars'].isnull(),'GarageCars'] = test['GarageCars'].mean()\n",
    "test.loc[test['GarageArea'].isnull(),'GarageArea'] = test['GarageArea'].mean()\n",
    "test.loc[test['TotalBsmtSF'].isnull(),'TotalBsmtSF'] = test['TotalBsmtSF'].mean()\n",
    "\n",
    "# Fits the model to ALL my training data, not just the split data\n",
    "model.fit(train,y)\n",
    "#runts my model on the test data\n",
    "tpredictions = model.predict(test)\n",
    "\n",
    "\n",
    "# Adds the predictions to our submission file\n",
    "submission['SalePrice'] = np.exp(tpredictions)\n",
    "submission = submission.to_csv(\"Submission\", index = False)\n",
    "#submission.head()"
   ]
  },
  {
   "cell_type": "markdown",
   "metadata": {},
   "source": [
    "The above cell is just a lot of words for \"I made a csv with my predictions of test.csv and then saved it\" haha. I am content with how I did in the competition! I know the benchmark isn't high, but I'm happy with the score I got! I submitted before and after tuning my model and I moved up a bit! That means the tuning was good. I would appreciate if there was a way to see what parts of my prediction were bad. Like I said earlier, I'm just assuming its the outliers. I'm going to also submit my elastic net just for fun."
   ]
  },
  {
   "cell_type": "code",
   "execution_count": 105,
   "metadata": {},
   "outputs": [],
   "source": [
    "#Submission of my elastic net model!\n",
    "sub2 = clf.predict(test)\n",
    "sub2 = np.exp(sub2)\n",
    "\n",
    "submis = pd.DataFrame({\"Id\":Id,\"SalePrice\":sub2})\n",
    "submis.to_csv('Submission 2', index = False)"
   ]
  },
  {
   "cell_type": "markdown",
   "metadata": {},
   "source": [
    "You know, all in all I'm pleased with what I made! If I was a company I would never sell my models as a product, but for casual use it gets the job done. If I was moving to this place in Iowa then I might throw in my details just to put me in the right ball park. If it came down to flipping houses and trying to make a profit.. I'd find another model to go with/I would hire Nelson to make one. I think I explained all the Homework Questions in cells above so hopefully they were easy to find. Thanks for taking the time to grade these! Till next time Nelson, give care."
   ]
  }
 ],
 "metadata": {
  "kernelspec": {
   "display_name": "Python 3",
   "language": "python",
   "name": "python3"
  },
  "language_info": {
   "codemirror_mode": {
    "name": "ipython",
    "version": 3
   },
   "file_extension": ".py",
   "mimetype": "text/x-python",
   "name": "python",
   "nbconvert_exporter": "python",
   "pygments_lexer": "ipython3",
   "version": "3.6.5"
  }
 },
 "nbformat": 4,
 "nbformat_minor": 2
}
